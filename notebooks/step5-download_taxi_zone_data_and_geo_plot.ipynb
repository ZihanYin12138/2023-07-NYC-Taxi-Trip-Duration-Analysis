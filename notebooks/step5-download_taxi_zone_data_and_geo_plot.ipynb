{
 "cells": [
  {
   "cell_type": "markdown",
   "metadata": {},
   "source": [
    "# Step5-download taxi zone data & geo plot"
   ]
  },
  {
   "cell_type": "markdown",
   "metadata": {},
   "source": [
    "## 1. Impot necessary modules & start a spark session"
   ]
  },
  {
   "cell_type": "code",
   "execution_count": null,
   "metadata": {},
   "outputs": [],
   "source": [
    "# Import necessary modules\n",
    "from pyspark.sql import SparkSession\n",
    "from urllib.request import urlretrieve\n",
    "import pandas as pd\n",
    "import geopandas as gpd\n",
    "import folium\n",
    "import zipfile\n",
    "import os"
   ]
  },
  {
   "cell_type": "code",
   "execution_count": null,
   "metadata": {},
   "outputs": [],
   "source": [
    "# Create a Spark session\n",
    "spark = (\n",
    "    SparkSession.builder.appName('ADS_project_1.py')\n",
    "    .config('spark.sql.repl.eagerEval.enabled', True)\n",
    "    .config('spark.sql.parquet.cacheMetadata', 'true')\n",
    "    .config('spark.sql.session.timeZone', 'Etc/UTC')\n",
    "    .config('spark.driver.memory', '16g')\n",
    "    .config('spark.executer.memory', '16g')\n",
    "    .getOrCreate()\n",
    ")"
   ]
  },
  {
   "cell_type": "markdown",
   "metadata": {},
   "source": [
    "## 2. Taxi zones data download, import & overview"
   ]
  },
  {
   "cell_type": "markdown",
   "metadata": {},
   "source": [
    "### 2.1 Create folders for taxi zones data"
   ]
  },
  {
   "cell_type": "code",
   "execution_count": null,
   "metadata": {},
   "outputs": [],
   "source": [
    "directory = '../data/taxi_zones'\n",
    "# Check if the directory exists; if not, create it\n",
    "if not os.path.exists(directory):\n",
    "    os.makedirs(directory)"
   ]
  },
  {
   "cell_type": "markdown",
   "metadata": {},
   "source": [
    "### 2.2 Download taxi zones data to the directory `data/taxi_zones/`"
   ]
  },
  {
   "cell_type": "code",
   "execution_count": null,
   "metadata": {},
   "outputs": [],
   "source": [
    "specific_data_url = 'https://d37ci6vzurychx.cloudfront.net/misc/taxi_zones.zip'\n",
    "output_path = ('../data/taxi_zones/taxi_zones.zip')\n",
    "urlretrieve(specific_data_url, output_path)\n",
    "\n",
    "specific_data_url = 'https://d37ci6vzurychx.cloudfront.net/misc/taxi+_zone_lookup.csv'\n",
    "output_path = ('../data/taxi_zones/taxi+_zone_lookup.csv')\n",
    "urlretrieve(specific_data_url, output_path)"
   ]
  },
  {
   "cell_type": "markdown",
   "metadata": {},
   "source": [
    "### 2.3 Extract `taxi_zones.zip` into the folder `data/taxi_zones/`"
   ]
  },
  {
   "cell_type": "code",
   "execution_count": null,
   "metadata": {},
   "outputs": [],
   "source": [
    "zip_file_path = '../data/taxi_zones/taxi_zones.zip'\n",
    "output_dir = '../data/taxi_zones/'\n",
    "\n",
    "with zipfile.ZipFile(zip_file_path, 'r') as zip_ref:\n",
    "    zip_ref.extractall(output_dir)"
   ]
  },
  {
   "cell_type": "markdown",
   "metadata": {},
   "source": [
    "### 2.4 Import taxi zones data from directory `data/taxi_zones/`"
   ]
  },
  {
   "cell_type": "code",
   "execution_count": null,
   "metadata": {},
   "outputs": [],
   "source": [
    "taxi_zones_shape_file = gpd.read_file('../data/taxi_zones/taxi_zones.shp')\n",
    "taxi_zones = pd.read_csv('../data/taxi_zones/taxi+_zone_lookup.csv')"
   ]
  },
  {
   "cell_type": "markdown",
   "metadata": {},
   "source": [
    "### 2.5 Show taxi zones data"
   ]
  },
  {
   "cell_type": "code",
   "execution_count": null,
   "metadata": {},
   "outputs": [],
   "source": [
    "taxi_zones_shape_file.head()"
   ]
  },
  {
   "cell_type": "code",
   "execution_count": null,
   "metadata": {},
   "outputs": [],
   "source": [
    "taxi_zones.head()"
   ]
  },
  {
   "cell_type": "markdown",
   "metadata": {},
   "source": [
    "## 3. Preparation before plotting choropleth map"
   ]
  },
  {
   "cell_type": "markdown",
   "metadata": {},
   "source": [
    "### 3.1 Merge to get `taxi_zones`"
   ]
  },
  {
   "cell_type": "markdown",
   "metadata": {},
   "source": [
    "Convert the values in feature 'geometry' of the shape file `taxi_zones_shape_file` to latitude and longitude"
   ]
  },
  {
   "cell_type": "code",
   "execution_count": null,
   "metadata": {},
   "outputs": [],
   "source": [
    "taxi_zones_shape_file['geometry'] = taxi_zones_shape_file['geometry'].to_crs(\"+proj=longlat +ellps=WGS84 +datum=WGS84 +no_defs\")\n",
    "taxi_zones_shape_file.head()"
   ]
  },
  {
   "cell_type": "markdown",
   "metadata": {},
   "source": [
    "Merge `taxi_zones_shape_file` & `taxi_zones` to be `taxi_zones`, based on the shared feature 'LocationID'"
   ]
  },
  {
   "cell_type": "code",
   "execution_count": null,
   "metadata": {},
   "outputs": [],
   "source": [
    "taxi_zones = gpd.GeoDataFrame(\n",
    "    pd.merge(taxi_zones_shape_file, taxi_zones, on='LocationID', how='inner')\n",
    ")\n",
    "\n",
    "taxi_zones.head()"
   ]
  },
  {
   "cell_type": "markdown",
   "metadata": {},
   "source": [
    "### 3.2 Create aggregated data"
   ]
  },
  {
   "cell_type": "markdown",
   "metadata": {},
   "source": [
    "#### 3.2.1 Import `merged_data` from `data/merged_data/`"
   ]
  },
  {
   "cell_type": "code",
   "execution_count": null,
   "metadata": {},
   "outputs": [],
   "source": [
    "merged_data_path = '../data/merged_data/merged_data.parquet/'\n",
    "merged_data = pd.read_parquet(merged_data_path)"
   ]
  },
  {
   "cell_type": "markdown",
   "metadata": {},
   "source": [
    "#### 3.2.2 Create aggregated data `pickup_location_avg_duration` for 'up_location_id'"
   ]
  },
  {
   "cell_type": "markdown",
   "metadata": {},
   "source": [
    "Do 'group by' by 'up_location_id', and calculate total 'trip_duration' & '#trips' inside each location"
   ]
  },
  {
   "cell_type": "code",
   "execution_count": null,
   "metadata": {},
   "outputs": [],
   "source": [
    "pickup_location_avg_duration = merged_data[['up_location_id', 'trip_duration']] \\\n",
    "                .groupby('up_location_id') \\\n",
    "                .agg(\n",
    "                    {\n",
    "                        'trip_duration': 'sum', # toal trip duration within the location\n",
    "                        'up_location_id': 'count' # number of trips within the location\n",
    "                    }\n",
    "                ) \\\n",
    "                .rename({'up_location_id': '#trips'}, axis=1)\n",
    "\n",
    "pickup_location_avg_duration.head()"
   ]
  },
  {
   "cell_type": "markdown",
   "metadata": {},
   "source": [
    "Calculate the average trip duration within each location, and let it be a new feature 'average_duration'"
   ]
  },
  {
   "cell_type": "code",
   "execution_count": null,
   "metadata": {},
   "outputs": [],
   "source": [
    "pickup_location_avg_duration['average_duration'] = pickup_location_avg_duration['trip_duration'] / pickup_location_avg_duration['#trips']\n",
    "pickup_location_avg_duration = pickup_location_avg_duration.reset_index().sort_values('average_duration', ascending=False)"
   ]
  },
  {
   "cell_type": "code",
   "execution_count": null,
   "metadata": {},
   "outputs": [],
   "source": [
    "pickup_location_avg_duration.head()"
   ]
  },
  {
   "cell_type": "markdown",
   "metadata": {},
   "source": [
    "#### 3.2.3 Create aggregated data `dropoff_location_avg_duration` for 'off_location_id' (same thing as 3.2.2)"
   ]
  },
  {
   "cell_type": "code",
   "execution_count": null,
   "metadata": {},
   "outputs": [],
   "source": [
    "dropoff_location_avg_duration = merged_data[['off_location_id', 'trip_duration']] \\\n",
    "                .groupby('off_location_id') \\\n",
    "                .agg(\n",
    "                    {\n",
    "                        'trip_duration': 'sum', # toal trip duration within the location\n",
    "                        'off_location_id': 'count' # number of trips within the location\n",
    "                    }\n",
    "                ) \\\n",
    "                .rename({'off_location_id': '#trips'}, axis=1)\n",
    "\n",
    "dropoff_location_avg_duration['average_duration'] = dropoff_location_avg_duration['trip_duration'] / dropoff_location_avg_duration['#trips']\n",
    "dropoff_location_avg_duration = dropoff_location_avg_duration.reset_index().sort_values('average_duration', ascending=False)"
   ]
  },
  {
   "cell_type": "code",
   "execution_count": null,
   "metadata": {},
   "outputs": [],
   "source": [
    "dropoff_location_avg_duration.head()"
   ]
  },
  {
   "cell_type": "markdown",
   "metadata": {},
   "source": [
    "### 3.3 Merge aggregated data & `taxi_zones`"
   ]
  },
  {
   "cell_type": "markdown",
   "metadata": {},
   "source": [
    "#### 3.3.1 Merge `pickup_location_avg_duration` & `taxi_zones`"
   ]
  },
  {
   "cell_type": "markdown",
   "metadata": {},
   "source": [
    " Merge to be `pickup_location_avg_duration`, based on 'up_location_id'"
   ]
  },
  {
   "cell_type": "code",
   "execution_count": null,
   "metadata": {},
   "outputs": [],
   "source": [
    "pickup_location_avg_duration = pickup_location_avg_duration \\\n",
    "    .merge(taxi_zones[['LocationID', 'zone', 'geometry']], left_on='up_location_id', right_on='LocationID') \\\n",
    "    .drop('LocationID', axis=1)"
   ]
  },
  {
   "cell_type": "code",
   "execution_count": null,
   "metadata": {},
   "outputs": [],
   "source": [
    "pickup_location_avg_duration.head()"
   ]
  },
  {
   "cell_type": "markdown",
   "metadata": {},
   "source": [
    "#### 3.3.2 Merge `dropoff_location_avg_duration` & `taxi_zones` (same thing as 3.3.1)"
   ]
  },
  {
   "cell_type": "markdown",
   "metadata": {},
   "source": [
    " Merge to be `dropoff_location_avg_duration`, based on 'up_location_id'"
   ]
  },
  {
   "cell_type": "code",
   "execution_count": null,
   "metadata": {},
   "outputs": [],
   "source": [
    "dropoff_location_avg_duration = dropoff_location_avg_duration \\\n",
    "    .merge(taxi_zones[['LocationID', 'zone', 'geometry']], left_on='off_location_id', right_on='LocationID') \\\n",
    "    .drop('LocationID', axis=1)"
   ]
  },
  {
   "cell_type": "code",
   "execution_count": null,
   "metadata": {},
   "outputs": [],
   "source": [
    "dropoff_location_avg_duration.head()"
   ]
  },
  {
   "cell_type": "markdown",
   "metadata": {},
   "source": [
    "## 4. Plot choropleth map based on aggregated data"
   ]
  },
  {
   "cell_type": "markdown",
   "metadata": {},
   "source": [
    "### 4.1 Initialise the `geoJSON` file for choropleth map"
   ]
  },
  {
   "cell_type": "code",
   "execution_count": null,
   "metadata": {},
   "outputs": [],
   "source": [
    "# create a JSON \n",
    "geoJSON = taxi_zones[['LocationID', 'geometry']].drop_duplicates('LocationID').to_json()"
   ]
  },
  {
   "cell_type": "markdown",
   "metadata": {},
   "source": [
    "### 4.2 Plot choropleth map, based on the aggregated data `pickup_location_avg_duration`"
   ]
  },
  {
   "cell_type": "markdown",
   "metadata": {},
   "source": [
    "#### 4.2.1 Plot choropleth map for 'up_location_id'"
   ]
  },
  {
   "cell_type": "code",
   "execution_count": null,
   "metadata": {},
   "outputs": [],
   "source": [
    "# Initialize the folium map \n",
    "m = folium.Map(location=[40.66, -73.94], tiles=\"cartodb positron\", zoom_start=10)\n",
    "\n",
    "# Create the choropleth map to visualize aggregated data on the folium map\n",
    "c = folium.Choropleth(\n",
    "    geo_data = geoJSON,\n",
    "    name = 'choropleth',\n",
    "    data = pickup_location_avg_duration.reset_index(), # data source\n",
    "    columns = ['up_location_id','average_duration'], # the columns required for plotting\n",
    "    key_on = 'properties.LocationID',\n",
    "    fill_color = 'YlOrRd',\n",
    "    nan_fill_color = 'black',\n",
    "    legend_name = 'Average Trip Duration (s)'\n",
    ")\n",
    "\n",
    "c.add_to(m)\n",
    "\n",
    "m"
   ]
  },
  {
   "cell_type": "markdown",
   "metadata": {},
   "source": [
    "#### 4.2.2 Mark the 10 'up_location_id' with the highest average duration"
   ]
  },
  {
   "cell_type": "code",
   "execution_count": null,
   "metadata": {},
   "outputs": [],
   "source": [
    "# Get the centroids for each location\n",
    "pickup_location_avg_duration['centroid'] = pickup_location_avg_duration['geometry'].apply(lambda x: (x.centroid.y, x.centroid.x))\n",
    "\n",
    "# Select the top 10 locations with the highest average trip durations\n",
    "top10_pickup_location_avg_duration = pickup_location_avg_duration.nlargest(10, 'average_duration')\n",
    "top10_pickup_location_avg_duration[['up_location_id', 'zone', 'centroid']].head()"
   ]
  },
  {
   "cell_type": "code",
   "execution_count": null,
   "metadata": {},
   "outputs": [],
   "source": [
    "# Loop the top 10 locations and add markers for them\n",
    "for index, row in top10_pickup_location_avg_duration.iterrows():\n",
    "    zone_name = row['zone']\n",
    "    coord = row['centroid']\n",
    "\n",
    "    # Add a marker to the map with the location's name\n",
    "    m.add_child(\n",
    "        folium.Marker(location=coord, popup=zone_name)\n",
    "    )\n",
    "\n",
    "# Save the map to an HTML file\n",
    "m.save('../plots/top10_avg_trip_duration_for_pickup_location.html')\n",
    "m"
   ]
  },
  {
   "cell_type": "markdown",
   "metadata": {},
   "source": [
    "### 4.3 Plot choropleth map, based on the aggregated data `dropoff_location_avg_duration`\n",
    "(same thing as 4.2)"
   ]
  },
  {
   "cell_type": "markdown",
   "metadata": {},
   "source": [
    "#### 4.3.1 Plot choropleth map for 'off_location_id'"
   ]
  },
  {
   "cell_type": "code",
   "execution_count": null,
   "metadata": {},
   "outputs": [],
   "source": [
    "# Initialize the folium map \n",
    "m = folium.Map(location=[40.66, -73.94], tiles=\"cartodb positron\", zoom_start=10)\n",
    "\n",
    "# Create the choropleth map to visualize aggregated data on the folium map\n",
    "c = folium.Choropleth(\n",
    "    geo_data = geoJSON, \n",
    "    name = 'choropleth', \n",
    "    data = dropoff_location_avg_duration.reset_index(), # data source\n",
    "    columns = ['off_location_id','average_duration'], # the columns required for plotting\n",
    "    key_on = 'properties.LocationID', \n",
    "    fill_color = 'YlOrRd', \n",
    "    nan_fill_color = 'black',\n",
    "    legend_name = 'Average Trip Duration (s)'\n",
    ")\n",
    "\n",
    "c.add_to(m)\n",
    "\n",
    "m"
   ]
  },
  {
   "cell_type": "markdown",
   "metadata": {},
   "source": [
    "#### 4.3.2 Mark the 10 'off_location_id' with the highest average duration"
   ]
  },
  {
   "cell_type": "code",
   "execution_count": null,
   "metadata": {},
   "outputs": [],
   "source": [
    "# Get the centroids for each location\n",
    "dropoff_location_avg_duration['centroid'] = dropoff_location_avg_duration['geometry'].apply(lambda x: (x.centroid.y, x.centroid.x))\n",
    "\n",
    "# Select the top 10 locations with the highest average trip durations\n",
    "top10_dropoff_location_avg_duration = dropoff_location_avg_duration.nlargest(10, 'average_duration')\n",
    "top10_dropoff_location_avg_duration[['off_location_id', 'zone', 'centroid']].head()"
   ]
  },
  {
   "cell_type": "code",
   "execution_count": null,
   "metadata": {},
   "outputs": [],
   "source": [
    "# Loop the top 10 locations and add markers for them\n",
    "for index, row in top10_dropoff_location_avg_duration.iterrows():\n",
    "    zone_name = row['zone']\n",
    "    coord = row['centroid']\n",
    "\n",
    "    # Add a marker to the map with the location's name\n",
    "    m.add_child(\n",
    "        folium.Marker(location=coord, popup=zone_name)\n",
    "    )\n",
    "\n",
    "# Save the map to an HTML file\n",
    "m.save('../plots/top10_avg_trip_duration_for_dropoff_location.html')\n",
    "m"
   ]
  },
  {
   "cell_type": "markdown",
   "metadata": {},
   "source": [
    "## 5. Stop spark session"
   ]
  },
  {
   "cell_type": "code",
   "execution_count": null,
   "metadata": {},
   "outputs": [],
   "source": [
    "spark.stop()"
   ]
  }
 ],
 "metadata": {
  "kernelspec": {
   "display_name": "Python 3",
   "language": "python",
   "name": "python3"
  },
  "language_info": {
   "codemirror_mode": {
    "name": "ipython",
    "version": 3
   },
   "file_extension": ".py",
   "mimetype": "text/x-python",
   "name": "python",
   "nbconvert_exporter": "python",
   "pygments_lexer": "ipython3",
   "version": "3.10.12"
  },
  "orig_nbformat": 4
 },
 "nbformat": 4,
 "nbformat_minor": 2
}
