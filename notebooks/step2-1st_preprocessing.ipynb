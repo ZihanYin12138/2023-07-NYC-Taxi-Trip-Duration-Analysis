{
 "cells": [
  {
   "cell_type": "markdown",
   "metadata": {},
   "source": [
    "# Step2-1st preprocessing"
   ]
  },
  {
   "cell_type": "markdown",
   "metadata": {},
   "source": [
    "## 1. Impot necessary modules & start a spark session"
   ]
  },
  {
   "cell_type": "code",
   "execution_count": null,
   "metadata": {},
   "outputs": [],
   "source": [
    "# Import necessary modules\n",
    "from pyspark.sql import SparkSession\n",
    "from pyspark.sql import functions as F\n",
    "import os"
   ]
  },
  {
   "cell_type": "code",
   "execution_count": null,
   "metadata": {},
   "outputs": [],
   "source": [
    "# Create a Spark session\n",
    "spark = (\n",
    "    SparkSession.builder.appName('ADS_project_1.py')\n",
    "    .config('spark.sql.repl.eagerEval.enabled', True)\n",
    "    .config('spark.sql.parquet.cacheMetadata', 'true')\n",
    "    .config('spark.sql.session.timeZone', 'Etc/UTC')\n",
    "    .config('spark.driver.memory', '16g')\n",
    "    .config('spark.executer.memory', '16g')\n",
    "    .getOrCreate()\n",
    ")"
   ]
  },
  {
   "cell_type": "markdown",
   "metadata": {},
   "source": [
    "## 2. Data import & overview"
   ]
  },
  {
   "cell_type": "markdown",
   "metadata": {},
   "source": [
    "Import `TLC_data` from directory `data/landing/TLC_data/`"
   ]
  },
  {
   "cell_type": "code",
   "execution_count": null,
   "metadata": {},
   "outputs": [],
   "source": [
    "TLC_data_dir = '../data/landing/TLC_data/*.parquet'\n",
    "TLC_data = spark.read.parquet(TLC_data_dir)"
   ]
  },
  {
   "cell_type": "markdown",
   "metadata": {},
   "source": [
    "`TLC_data` overview"
   ]
  },
  {
   "cell_type": "code",
   "execution_count": null,
   "metadata": {},
   "outputs": [],
   "source": [
    "original_num_rows = TLC_data.count()\n",
    "original_num_cols = len(TLC_data.columns)\n",
    "\n",
    "print('number of rows: ', original_num_rows)\n",
    "print('number of cols: ', original_num_cols)\n",
    "TLC_data.limit(5)"
   ]
  },
  {
   "cell_type": "markdown",
   "metadata": {},
   "source": [
    "## 3. Remove features not relevant to research goal"
   ]
  },
  {
   "cell_type": "markdown",
   "metadata": {},
   "source": [
    "Define some features that we consider unnecessary"
   ]
  },
  {
   "cell_type": "code",
   "execution_count": null,
   "metadata": {},
   "outputs": [],
   "source": [
    "useless_feature_list = [\n",
    "    'VendorID', 'RatecodeID', 'store_and_fwd_flag', 'payment_type', 'fare_amount', \n",
    "    'mta_tax', 'improvement_surcharge', 'tip_amount', 'total_amount'\n",
    "]"
   ]
  },
  {
   "cell_type": "markdown",
   "metadata": {},
   "source": [
    "Remove the invalid rows before deleting these unrelated features"
   ]
  },
  {
   "cell_type": "code",
   "execution_count": null,
   "metadata": {},
   "outputs": [],
   "source": [
    "# Filter out rows based on valid values of these features\n",
    "TLC_data = (\n",
    "    TLC_data\n",
    "        # remove 'VendorID' that are not 1 & 2\n",
    "        .where((F.col('VendorID') == 1) | (F.col('VendorID') == 2))\n",
    "\n",
    "        # remove 'RatecodeID' that are in 1 ~ 6\n",
    "        .where(F.col('RatecodeID').isin([1, 2, 3, 4, 5, 6]))\n",
    "\n",
    "        # remove 'store_and_fwd_flag' that are not 'Y' & 'N'\n",
    "        .where((F.col('store_and_fwd_flag') == 'Y') | (F.col('store_and_fwd_flag') == 'N'))\n",
    "\n",
    "        # remove 'payment_type' that are not 1 & 2\n",
    "        .where(F.col('payment_type').isin([1, 2]))\n",
    "\n",
    "        # remove 'fare_amount' those are smaller than or equal to 0\n",
    "        .where(F.col('fare_amount') > 0)\n",
    "\n",
    "        # remove 'mta_tax' that is not 0.5\n",
    "        .where(F.col('mta_tax') == 0.5)\n",
    "\n",
    "        # remove 'improvement_surcharge' that is not 0.3\n",
    "        .where(F.col('improvement_surcharge') == 0.3)\n",
    "\n",
    "        # remove 'tip_amount' those are smaller than 0\n",
    "        .where(F.col('tip_amount') >= 0)\n",
    "\n",
    "        # remove 'total_amount' those are smaller than 0\n",
    "        .where(F.col('total_amount') >= 0)\n",
    ")              "
   ]
  },
  {
   "cell_type": "markdown",
   "metadata": {},
   "source": [
    "Deleting these unrelated features, such as 'VendorID' and most fee features"
   ]
  },
  {
   "cell_type": "code",
   "execution_count": null,
   "metadata": {},
   "outputs": [],
   "source": [
    "for useless_feature in useless_feature_list:\n",
    "    TLC_data = TLC_data.drop(useless_feature)\n",
    "\n",
    "TLC_data.limit(5)"
   ]
  },
  {
   "cell_type": "markdown",
   "metadata": {},
   "source": [
    "## 4. Changes for readability"
   ]
  },
  {
   "cell_type": "markdown",
   "metadata": {},
   "source": [
    "Rename features"
   ]
  },
  {
   "cell_type": "code",
   "execution_count": null,
   "metadata": {},
   "outputs": [],
   "source": [
    "TLC_data = TLC_data.withColumnRenamed('tpep_pickup_datetime', 'pickup_time') \\\n",
    "                   .withColumnRenamed('tpep_dropoff_datetime', 'dropoff_time') \\\n",
    "                   .withColumnRenamed('PULocationID', 'up_location_id') \\\n",
    "                   .withColumnRenamed('DOLocationID', 'off_location_id') \\\n",
    "                   .withColumnRenamed('extra', 'extra_fee') \\\n",
    "                   .withColumnRenamed('tolls_amount', 'toll_fee') \\\n",
    "                   .withColumnRenamed('passenger_count', '#passenger') \\\n",
    "                   .withColumnRenamed('congestion_surcharge', 'congestion_fee') \\\n",
    "\n",
    "TLC_data.limit(5)"
   ]
  },
  {
   "cell_type": "markdown",
   "metadata": {},
   "source": [
    "Reorder features"
   ]
  },
  {
   "cell_type": "code",
   "execution_count": null,
   "metadata": {},
   "outputs": [],
   "source": [
    "TLC_data = TLC_data.select(\n",
    "    'pickup_time', 'dropoff_time', 'up_location_id', 'off_location_id', '#passenger', \n",
    "    'trip_distance', 'congestion_fee', 'extra_fee', 'toll_fee', 'airport_fee'\n",
    ")\n",
    "\n",
    "TLC_data.limit(5)"
   ]
  },
  {
   "cell_type": "markdown",
   "metadata": {},
   "source": [
    "## 5. Data overview after 1st preprocessing & saving"
   ]
  },
  {
   "cell_type": "markdown",
   "metadata": {},
   "source": [
    "`TLC_data` overview after 1st preprocessing"
   ]
  },
  {
   "cell_type": "code",
   "execution_count": null,
   "metadata": {},
   "outputs": [],
   "source": [
    "num_rows_after_1st_preprocessing = TLC_data.count()\n",
    "num_cols_after_1st_preprocessing = len(TLC_data.columns)\n",
    "\n",
    "num_removed_rows = original_num_rows - num_rows_after_1st_preprocessing\n",
    "num_removed_cols = original_num_cols - num_cols_after_1st_preprocessing\n",
    "\n",
    "print('number of rows: ', num_rows_after_1st_preprocessing)\n",
    "print('number of cols: ', num_cols_after_1st_preprocessing)\n",
    "print('\\n')\n",
    "print('number of removed rows: ', num_removed_rows)\n",
    "print('number of removed cols: ', num_removed_cols)"
   ]
  },
  {
   "cell_type": "markdown",
   "metadata": {},
   "source": [
    "Save `TLC_data` to directory `data/raw/TLC_data/`"
   ]
  },
  {
   "cell_type": "code",
   "execution_count": null,
   "metadata": {},
   "outputs": [],
   "source": [
    "# Define the directory for saving 1st preprocessed data\n",
    "directory = ('../data/raw/TLC_data')\n",
    "# Check if the directory exists; if not, create it\n",
    "if not os.path.exists(directory):\n",
    "    os.makedirs(directory)\n",
    "\n",
    "# Save TLC_data\n",
    "TLC_data.write.mode('overwrite').parquet('../data/raw/TLC_data/TLC_data.parquet')"
   ]
  },
  {
   "cell_type": "markdown",
   "metadata": {},
   "source": [
    "## 6. Stop spark session"
   ]
  },
  {
   "cell_type": "code",
   "execution_count": null,
   "metadata": {},
   "outputs": [],
   "source": [
    "spark.stop()"
   ]
  }
 ],
 "metadata": {
  "kernelspec": {
   "display_name": "Python 3",
   "language": "python",
   "name": "python3"
  },
  "language_info": {
   "codemirror_mode": {
    "name": "ipython",
    "version": 3
   },
   "file_extension": ".py",
   "mimetype": "text/x-python",
   "name": "python",
   "nbconvert_exporter": "python",
   "pygments_lexer": "ipython3",
   "version": "3.10.12"
  },
  "orig_nbformat": 4
 },
 "nbformat": 4,
 "nbformat_minor": 2
}
