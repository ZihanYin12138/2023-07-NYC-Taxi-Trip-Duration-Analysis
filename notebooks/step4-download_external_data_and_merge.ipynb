{
 "cells": [
  {
   "cell_type": "markdown",
   "metadata": {},
   "source": [
    "# Step4-download external data & merge"
   ]
  },
  {
   "cell_type": "markdown",
   "metadata": {},
   "source": [
    "## 1. Impot necessary modules & start a spark session"
   ]
  },
  {
   "cell_type": "code",
   "execution_count": null,
   "metadata": {},
   "outputs": [],
   "source": [
    "# Import necessary modules\n",
    "from pyspark.sql import SparkSession\n",
    "from pyspark.sql import functions as F\n",
    "from urllib.request import urlretrieve\n",
    "import os"
   ]
  },
  {
   "cell_type": "code",
   "execution_count": null,
   "metadata": {},
   "outputs": [],
   "source": [
    "# Create a Spark session\n",
    "spark = (\n",
    "    SparkSession.builder.appName('ADS_project_1.py')\n",
    "    .config('spark.sql.repl.eagerEval.enabled', True)\n",
    "    .config('spark.sql.parquet.cacheMetadata', 'true')\n",
    "    .config('spark.sql.session.timeZone', 'Etc/UTC')\n",
    "    .config('spark.driver.memory', '16g')\n",
    "    .config('spark.executer.memory', '16g')\n",
    "    .getOrCreate()\n",
    ")"
   ]
  },
  {
   "cell_type": "markdown",
   "metadata": {},
   "source": [
    "## 2. External data download, import & overview"
   ]
  },
  {
   "cell_type": "markdown",
   "metadata": {},
   "source": [
    "This `external_data` is about New York City weather, which we think can inflence 'trip_duration'"
   ]
  },
  {
   "cell_type": "markdown",
   "metadata": {},
   "source": [
    "### 2.1 Create folders for `external_data`"
   ]
  },
  {
   "cell_type": "code",
   "execution_count": null,
   "metadata": {},
   "outputs": [],
   "source": [
    "# Define a list of data steps\n",
    "data_step_list = ['landing', 'raw', 'curated']\n",
    "\n",
    "# Loop through the lists of data steps, sources & usage\n",
    "for data_step in data_step_list:\n",
    "    # Define the directory for data sources & usage in '../data/{data_step}/'\n",
    "    directory = (\n",
    "        '../data/' + data_step + '/' + 'external_data'\n",
    "    )\n",
    "    # Check if the directory exists; if not, create it\n",
    "    if not os.path.exists(directory):\n",
    "        os.makedirs(directory)"
   ]
  },
  {
   "cell_type": "markdown",
   "metadata": {},
   "source": [
    "### 2.2 Download `external_data` to the directory `data/landing/external_data/`"
   ]
  },
  {
   "cell_type": "code",
   "execution_count": null,
   "metadata": {},
   "outputs": [],
   "source": [
    "specific_data_url = (\n",
    "    'https://weather.visualcrossing.com/VisualCrossingWebServices/rest/services/retrievebulkdataset'\n",
    "    '?&key=5NFQXAGG9ENFS7A5S6G8G5ZXH&taskId=dc3f21a8e55c0d7422370cdc0979cb45&zip=false'\n",
    ")\n",
    "output_path = '../data/landing/external_data/external_data.csv'\n",
    "urlretrieve(specific_data_url, output_path)"
   ]
  },
  {
   "cell_type": "markdown",
   "metadata": {},
   "source": [
    "### 2.3 Import `external_data` from directory `data/landing/external_data/`"
   ]
  },
  {
   "cell_type": "code",
   "execution_count": null,
   "metadata": {},
   "outputs": [],
   "source": [
    "external_data_dir = '../data/landing/external_data/external_data.csv'\n",
    "external_data = spark.read.csv(external_data_dir, header=True)"
   ]
  },
  {
   "cell_type": "markdown",
   "metadata": {},
   "source": [
    "### 2.4 Show #rows, #cols & overview of `external_data`"
   ]
  },
  {
   "cell_type": "code",
   "execution_count": null,
   "metadata": {},
   "outputs": [],
   "source": [
    "original_num_rows = external_data.count()\n",
    "original_num_cols = len(external_data.columns)\n",
    "\n",
    "print('number of rows: ', original_num_rows)\n",
    "print('number of cols: ', original_num_cols)\n",
    "external_data.limit(5)"
   ]
  },
  {
   "cell_type": "markdown",
   "metadata": {},
   "source": [
    "## 3. Preprocessing for external data"
   ]
  },
  {
   "cell_type": "markdown",
   "metadata": {},
   "source": [
    "### 3.1 Remove features we intuitively think are unsignificant or duplicate information from other features"
   ]
  },
  {
   "cell_type": "markdown",
   "metadata": {},
   "source": [
    "Descriptive Statistics of features of `external_data`"
   ]
  },
  {
   "cell_type": "code",
   "execution_count": null,
   "metadata": {},
   "outputs": [],
   "source": [
    "external_data.describe()"
   ]
  },
  {
   "cell_type": "markdown",
   "metadata": {},
   "source": [
    "Observe all the values of the two features 'conditions' & 'icon'. We find that most general info appears in these 2 features"
   ]
  },
  {
   "cell_type": "code",
   "execution_count": null,
   "metadata": {},
   "outputs": [],
   "source": [
    "external_data.select('conditions').distinct().show()\n",
    "external_data.select('icon').distinct().show()"
   ]
  },
  {
   "cell_type": "markdown",
   "metadata": {},
   "source": [
    "Save useful features"
   ]
  },
  {
   "cell_type": "code",
   "execution_count": null,
   "metadata": {},
   "outputs": [],
   "source": [
    "useful_feature_list = ['datetime', 'feelslike', 'visibility', 'uvindex', 'conditions']\n",
    "external_data = external_data.select(useful_feature_list)"
   ]
  },
  {
   "cell_type": "markdown",
   "metadata": {},
   "source": [
    "Show data shape"
   ]
  },
  {
   "cell_type": "code",
   "execution_count": null,
   "metadata": {},
   "outputs": [],
   "source": [
    "print('number of rows: ', external_data.count())\n",
    "print('number of cols: ', len(external_data.columns))\n",
    "external_data.limit(5)"
   ]
  },
  {
   "cell_type": "markdown",
   "metadata": {},
   "source": [
    "Save this raw `external_data` to the directory `data/raw/external_data/`"
   ]
  },
  {
   "cell_type": "code",
   "execution_count": null,
   "metadata": {},
   "outputs": [],
   "source": [
    "external_data.write.mode('overwrite').parquet('../data/raw/external_data/external_data.parquet')"
   ]
  },
  {
   "cell_type": "markdown",
   "metadata": {},
   "source": [
    "创建新的feature"
   ]
  },
  {
   "cell_type": "markdown",
   "metadata": {},
   "source": [
    "### 3.2 Create new features"
   ]
  },
  {
   "cell_type": "code",
   "execution_count": null,
   "metadata": {},
   "outputs": [],
   "source": [
    "external_data = (\n",
    "    external_data\n",
    "        # Create 'date' from 'datetime' by extracting month and day\n",
    "        .withColumn('date', F.date_format('datetime', 'MM-dd'))\n",
    "\n",
    "        # Create 'if_rain' from 'conditions', values are 0 & 1\n",
    "        .withColumn('if_rain', F.when(external_data['conditions'].contains('Rain'), 1).otherwise(0))\n",
    "\n",
    "        # Create 'if_snow' from 'conditions', values are 0 & 1\n",
    "        .withColumn('if_snow', F.when(external_data['conditions'].contains('Snow'), 1).otherwise(0))\n",
    "\n",
    "        # Create 'if_overcast' from 'conditions', values are 0 & 1\n",
    "        .withColumn('if_overcast', F.when(external_data['conditions'].contains('Overcast'), 1).otherwise(0))\n",
    "\n",
    "        # Create 'if_cloudy' from 'conditions', values are 0 & 1\n",
    "        .withColumn(\n",
    "            'if_cloudy', \n",
    "            F.when(\n",
    "                external_data['conditions'].contains('Cloudy') | external_data['conditions'].contains('Partially cloudy'), \n",
    "                1\n",
    "            ).otherwise(0)\n",
    "        )\n",
    "\n",
    "        # Create 'if_clear' from 'conditions', values are 0 & 1\n",
    "        .withColumn('if_clear', F.when(external_data['conditions'].contains('Clear'), 1).otherwise(0))\n",
    ")\n",
    "\n",
    "external_data.limit(5)"
   ]
  },
  {
   "cell_type": "markdown",
   "metadata": {},
   "source": [
    "### 3.3 Changes for readability"
   ]
  },
  {
   "cell_type": "markdown",
   "metadata": {},
   "source": [
    "Rename 2 features"
   ]
  },
  {
   "cell_type": "code",
   "execution_count": null,
   "metadata": {},
   "outputs": [],
   "source": [
    "external_data = external_data.withColumnRenamed('feelslike', 'temperature') \\\n",
    "                             .withColumnRenamed('uvindex', 'uv_index') "
   ]
  },
  {
   "cell_type": "markdown",
   "metadata": {},
   "source": [
    "Delete features that have already been used to extract information and no longer needed"
   ]
  },
  {
   "cell_type": "code",
   "execution_count": null,
   "metadata": {},
   "outputs": [],
   "source": [
    "useful_feature_list = [\n",
    "    'date', 'temperature', 'uv_index', 'visibility', 'if_rain', 'if_snow', 'if_overcast', 'if_cloudy', 'if_clear'\n",
    "]\n",
    "external_data = external_data.select(useful_feature_list)"
   ]
  },
  {
   "cell_type": "markdown",
   "metadata": {},
   "source": [
    "Show dinal data shape of `external_data`"
   ]
  },
  {
   "cell_type": "code",
   "execution_count": null,
   "metadata": {},
   "outputs": [],
   "source": [
    "num_rows_after_preprocessing = external_data.count()\n",
    "num_cols_after_preprocessing = len(external_data.columns)\n",
    "\n",
    "print('number of rows: ', num_rows_after_preprocessing)\n",
    "print('number of cols: ', num_cols_after_preprocessing)"
   ]
  },
  {
   "cell_type": "markdown",
   "metadata": {},
   "source": [
    "Save curated `external_data` to the directory `data/curated/external_data/`"
   ]
  },
  {
   "cell_type": "code",
   "execution_count": null,
   "metadata": {},
   "outputs": [],
   "source": [
    "external_data.write.mode('overwrite').parquet('../data/curated/external_data/external_data.parquet')"
   ]
  },
  {
   "cell_type": "markdown",
   "metadata": {},
   "source": [
    "## 4. Merge `TLC_data` & `external_data`"
   ]
  },
  {
   "cell_type": "markdown",
   "metadata": {},
   "source": [
    "Import curated `TLC_data` from directory `data/curated/TLC_data/`"
   ]
  },
  {
   "cell_type": "code",
   "execution_count": null,
   "metadata": {},
   "outputs": [],
   "source": [
    "TLC_data_path = '../data/curated/TLC_data/TLC_data.parquet/'\n",
    "TLC_data = spark.read.parquet(TLC_data_path)"
   ]
  },
  {
   "cell_type": "markdown",
   "metadata": {},
   "source": [
    "Merge `TLC_data` & `external_data` based on the shared feature 'date'"
   ]
  },
  {
   "cell_type": "code",
   "execution_count": null,
   "metadata": {},
   "outputs": [],
   "source": [
    "merged_data = TLC_data.join(external_data, on=\"date\", how=\"left\")"
   ]
  },
  {
   "cell_type": "markdown",
   "metadata": {},
   "source": [
    "`merged_data` overview"
   ]
  },
  {
   "cell_type": "code",
   "execution_count": null,
   "metadata": {},
   "outputs": [],
   "source": [
    "merged_num_rows = merged_data.count()\n",
    "merged_num_cols = len(merged_data.columns)\n",
    "\n",
    "print('#rows of merged_data: ', merged_num_rows)\n",
    "print('#cols of merged_data: ', merged_num_cols)\n",
    "\n",
    "merged_data.limit(5)"
   ]
  },
  {
   "cell_type": "markdown",
   "metadata": {},
   "source": [
    "Create folder for `merged_data`, and save it to directory `data/merged_data/`"
   ]
  },
  {
   "cell_type": "code",
   "execution_count": null,
   "metadata": {},
   "outputs": [],
   "source": [
    "directory = ('../data/merged_data/')\n",
    "\n",
    "if not os.path.exists(directory):\n",
    "    os.makedirs(directory)\n",
    "\n",
    "merged_data.write.mode('overwrite').parquet('../data/merged_data/merged_data.parquet')"
   ]
  },
  {
   "cell_type": "markdown",
   "metadata": {},
   "source": [
    "## 5. Stop spark session"
   ]
  },
  {
   "cell_type": "code",
   "execution_count": null,
   "metadata": {},
   "outputs": [],
   "source": [
    "spark.stop()"
   ]
  }
 ],
 "metadata": {
  "kernelspec": {
   "display_name": "Python 3",
   "language": "python",
   "name": "python3"
  },
  "language_info": {
   "codemirror_mode": {
    "name": "ipython",
    "version": 3
   },
   "file_extension": ".py",
   "mimetype": "text/x-python",
   "name": "python",
   "nbconvert_exporter": "python",
   "pygments_lexer": "ipython3",
   "version": "3.10.12"
  },
  "orig_nbformat": 4
 },
 "nbformat": 4,
 "nbformat_minor": 2
}
