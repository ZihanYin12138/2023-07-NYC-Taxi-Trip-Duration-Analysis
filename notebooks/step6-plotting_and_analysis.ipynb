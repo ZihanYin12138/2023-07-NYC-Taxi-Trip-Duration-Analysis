{
 "cells": [
  {
   "cell_type": "markdown",
   "metadata": {},
   "source": [
    "# Step6-plotting & analysis"
   ]
  },
  {
   "cell_type": "markdown",
   "metadata": {},
   "source": [
    "## 1. Impot necessary modules & start a spark session"
   ]
  },
  {
   "cell_type": "code",
   "execution_count": null,
   "metadata": {},
   "outputs": [],
   "source": [
    "# Import necessary modules\n",
    "from pyspark.sql import SparkSession\n",
    "from statsmodels.formula.api import ols\n",
    "import matplotlib.pyplot as plt\n",
    "import pandas as pd\n",
    "import seaborn as sns\n",
    "import scipy.stats as stats\n",
    "import statsmodels.api as sm\n",
    "import numpy as np"
   ]
  },
  {
   "cell_type": "code",
   "execution_count": null,
   "metadata": {},
   "outputs": [],
   "source": [
    "# Create a Spark session\n",
    "spark = (\n",
    "    SparkSession.builder.appName('step_1-download_data.py')\n",
    "    .config('spark.sql.repl.eagerEval.enabled', True)\n",
    "    .config('spark.sql.parquet.cacheMetadata', 'true')\n",
    "    .config('spark.sql.session.timeZone', 'Etc/UTC')\n",
    "    .config('spark.driver.memory', '16g')\n",
    "    .config('spark.executer.memory', '16g')\n",
    "    .getOrCreate()\n",
    ")"
   ]
  },
  {
   "cell_type": "markdown",
   "metadata": {},
   "source": [
    "## 2. Import merged_data and sample"
   ]
  },
  {
   "cell_type": "markdown",
   "metadata": {},
   "source": [
    "Import `merged_data` from directory `data/merged_data/`"
   ]
  },
  {
   "cell_type": "code",
   "execution_count": null,
   "metadata": {},
   "outputs": [],
   "source": [
    "merged_data_path = '../data/merged_data/merged_data.parquet/'\n",
    "merged_data = spark.read.parquet(merged_data_path)"
   ]
  },
  {
   "cell_type": "markdown",
   "metadata": {},
   "source": [
    "Do a sample for `merged_data`, with sample size of 0.01"
   ]
  },
  {
   "cell_type": "code",
   "execution_count": null,
   "metadata": {},
   "outputs": [],
   "source": [
    "sample_size = 0.01\n",
    "sample_merged_data = merged_data.sample(sample_size, seed=1).toPandas()\n",
    "print('#rows_of_sample_data: ', len(sample_merged_data))"
   ]
  },
  {
   "cell_type": "markdown",
   "metadata": {},
   "source": [
    "## 3. Distribution of trip duration"
   ]
  },
  {
   "cell_type": "markdown",
   "metadata": {},
   "source": [
    "Plot the distribution of 'trip_duration'"
   ]
  },
  {
   "cell_type": "code",
   "execution_count": null,
   "metadata": {},
   "outputs": [],
   "source": [
    "plt.figure(figsize=(10, 6))\n",
    "sns.distplot(sample_merged_data['trip_duration'], bins=30, kde=True)  # KDE为True将同时显示密度估计\n",
    "plt.title('Distribution of Trip Duration')\n",
    "plt.xlabel('Trip Duration')\n",
    "plt.ylabel('Density')\n",
    "\n",
    "plt.savefig('../plots/distribution_of_trip_duration.png')\n",
    "plt.show()"
   ]
  },
  {
   "cell_type": "markdown",
   "metadata": {},
   "source": [
    "Replot after doing a log tramsformation"
   ]
  },
  {
   "cell_type": "code",
   "execution_count": null,
   "metadata": {},
   "outputs": [],
   "source": [
    "# Log transformation to the 'trip_duration' for better normality.\n",
    "sample_merged_data['log_trip_duration'] = np.log1p(sample_merged_data['trip_duration'])\n",
    "\n",
    "plt.figure(figsize=(10, 6))\n",
    "sns.distplot(sample_merged_data['log_trip_duration'], kde=True, bins=30)\n",
    "plt.title('Distribution of Log Transformed Trip Duration')\n",
    "plt.xlabel('Log(Trip Duration)')\n",
    "plt.ylabel('Density')\n",
    "\n",
    "plt.savefig('../plots/distribution_of_log_transformed_trip_duration')\n",
    "plt.show()"
   ]
  },
  {
   "cell_type": "code",
   "execution_count": null,
   "metadata": {},
   "outputs": [],
   "source": [
    "# remove 'log_trip_duration' from `sample_merged_data`\n",
    "del sample_merged_data['log_trip_duration']"
   ]
  },
  {
   "cell_type": "markdown",
   "metadata": {},
   "source": [
    "## 4. Correlation of continuous features"
   ]
  },
  {
   "cell_type": "markdown",
   "metadata": {},
   "source": [
    "Separate discussion of continuous and discrete features"
   ]
  },
  {
   "cell_type": "code",
   "execution_count": null,
   "metadata": {},
   "outputs": [],
   "source": [
    "continuous_feature_list = [\n",
    "    '#passenger', 'trip_distance', 'average_speed', 'congestion_fee', 'toll_fee', 'temperature', 'uv_index', 'visibility', 'trip_duration'\n",
    "]"
   ]
  },
  {
   "cell_type": "markdown",
   "metadata": {},
   "source": [
    "### 4.1 Pair plot for continuous features"
   ]
  },
  {
   "cell_type": "markdown",
   "metadata": {},
   "source": [
    "Change the continuous features of type `int` or `object` to float type before plotting"
   ]
  },
  {
   "cell_type": "code",
   "execution_count": null,
   "metadata": {},
   "outputs": [],
   "source": [
    "sample_merged_data['trip_duration'] = sample_merged_data['trip_duration'].astype(float)\n",
    "sample_merged_data['uv_index'] = sample_merged_data['uv_index'].astype(float)\n",
    "sample_merged_data['temperature'] = pd.to_numeric(sample_merged_data['temperature'], errors='coerce')\n",
    "sample_merged_data['visibility'] = pd.to_numeric(sample_merged_data['visibility'], errors='coerce')\n",
    "sample_merged_data.head()"
   ]
  },
  {
   "cell_type": "code",
   "execution_count": null,
   "metadata": {},
   "outputs": [],
   "source": [
    "sns.set(style=\"ticks\", color_codes=True)\n",
    "\n",
    "pair_plot = sns.pairplot(\n",
    "    sample_merged_data[continuous_feature_list], \n",
    "    plot_kws=dict(s=1, edgecolor=\"b\", linewidth=1)\n",
    ")\n",
    "pair_plot.fig.suptitle(f\"Pair Plot\", y = 1)\n",
    "\n",
    "plt.savefig('../plots/pair_plot_for_continuous_features')\n",
    "plt.show()"
   ]
  },
  {
   "cell_type": "markdown",
   "metadata": {},
   "source": [
    "### 4.2 Heat plot for continuous features"
   ]
  },
  {
   "cell_type": "code",
   "execution_count": null,
   "metadata": {},
   "outputs": [],
   "source": [
    "sample_merged_data.head()"
   ]
  },
  {
   "cell_type": "code",
   "execution_count": null,
   "metadata": {},
   "outputs": [],
   "source": [
    "plt.figure(figsize=(12, 9))\n",
    "\n",
    "sns.heatmap(\n",
    "    sample_merged_data[continuous_feature_list].corr(), \n",
    "    annot=True, \n",
    "    cmap='coolwarm', \n",
    "    center=0\n",
    ")\n",
    "plt.title('Pearson Correlation Metric')\n",
    "\n",
    "plt.savefig('../plots/head_plot_for_continuous_features')\n",
    "plt.show()"
   ]
  },
  {
   "cell_type": "markdown",
   "metadata": {},
   "source": [
    "### 4.3 Heat map with spearman correlation coefficient"
   ]
  },
  {
   "cell_type": "code",
   "execution_count": null,
   "metadata": {},
   "outputs": [],
   "source": [
    "# Use spearman correlation coefficient\n",
    "spearman_corr = sample_merged_data[continuous_feature_list].corr(method='spearman')\n",
    "\n",
    "plt.figure(figsize=(12, 9))\n",
    "\n",
    "sns.heatmap(\n",
    "    spearman_corr, \n",
    "    annot=True, \n",
    "    cmap='coolwarm', \n",
    "    center=0\n",
    ")\n",
    "plt.title('Spearman Correlation Metric')\n",
    "\n",
    "plt.savefig('../plots/head_plot_with_spearman_for_continuous_features')\n",
    "plt.show()"
   ]
  },
  {
   "cell_type": "markdown",
   "metadata": {},
   "source": [
    "## 5. Correlation of discrete features"
   ]
  },
  {
   "cell_type": "code",
   "execution_count": null,
   "metadata": {},
   "outputs": [],
   "source": [
    "discrete_feature_list = [\n",
    "    'trip_duration', 'up_location_id', 'off_location_id', 'if_weekend', 'if_peak_hour', 'if_overnight', 'if_airport', \n",
    "    'if_rain', 'if_snow', 'if_overcast', 'if_cloudy', 'if_clear'\n",
    "]"
   ]
  },
  {
   "cell_type": "markdown",
   "metadata": {},
   "source": [
    "### 5.1 Pair plot for discrete features"
   ]
  },
  {
   "cell_type": "code",
   "execution_count": null,
   "metadata": {},
   "outputs": [],
   "source": [
    "sns.set(style=\"ticks\", color_codes=True)\n",
    "\n",
    "pair_plot = sns.pairplot(\n",
    "    sample_merged_data[discrete_feature_list], \n",
    "    plot_kws=dict(s=1, edgecolor=\"b\", linewidth=1)\n",
    ")\n",
    "pair_plot.fig.suptitle(f\"Pair Plot\", y = 1)\n",
    "\n",
    "plt.savefig('../plots/pair_plot_for_discrete_features')\n",
    "plt.show()"
   ]
  },
  {
   "cell_type": "markdown",
   "metadata": {},
   "source": [
    "With the pair plot for the discrete features, we did not see any correlation between the discrete features and 'trip_duration', so we decided to do anova on the discrete features"
   ]
  },
  {
   "cell_type": "markdown",
   "metadata": {},
   "source": [
    "### 5.2 ANOVA for discrete features"
   ]
  },
  {
   "cell_type": "markdown",
   "metadata": {},
   "source": [
    "Remove 'up_location_id' & 'off_location_id' for now"
   ]
  },
  {
   "cell_type": "code",
   "execution_count": null,
   "metadata": {},
   "outputs": [],
   "source": [
    "discrete_feature_list = [\n",
    "    'if_weekend', 'if_peak_hour', 'if_overnight', 'if_airport', 'if_rain', 'if_snow', 'if_overcast', 'if_cloudy', 'if_clear'\n",
    "]"
   ]
  },
  {
   "cell_type": "code",
   "execution_count": null,
   "metadata": {},
   "outputs": [],
   "source": [
    "results = []\n",
    "\n",
    "# Loop through each discrete feature in the list\n",
    "for feature in discrete_feature_list:\n",
    "    # Group 'trip_duration' where the discrete feature value is 1\n",
    "    group1 = sample_merged_data[sample_merged_data[feature] == 1]['trip_duration']\n",
    "\n",
    "    # Group 'trip_duration' where the discrete feature value is 0\n",
    "    group2 = sample_merged_data[sample_merged_data[feature] == 0]['trip_duration']\n",
    "    \n",
    "    # do a one-way ANOVA test to determine if means of the two groups are the same\n",
    "    f_val, p_val = stats.f_oneway(group1, group2)\n",
    "    \n",
    "    results.append({'feature': feature, 'F-value': f_val, 'p-value': p_val})\n",
    "\n",
    "results_df = pd.DataFrame(results).sort_values(by='p-value')\n",
    "\n",
    "print(results_df)"
   ]
  },
  {
   "cell_type": "markdown",
   "metadata": {},
   "source": [
    "### 5.3   2-way ANOVA with intersection for 'up_location_id' & 'off_location_id'"
   ]
  },
  {
   "cell_type": "code",
   "execution_count": null,
   "metadata": {},
   "outputs": [],
   "source": [
    "# Build a linear regression model using Ordinary Least Squares\n",
    "model = ols(\n",
    "    f'trip_duration ~ up_location_id * off_location_id', \n",
    "    data=sample_merged_data\n",
    ").fit()\n",
    "\n",
    "# Create the ANOVA table for the given model\n",
    "anova_table = sm.stats.anova_lm(model, typ=2)\n",
    "\n",
    "print(anova_table)"
   ]
  },
  {
   "cell_type": "markdown",
   "metadata": {},
   "source": [
    "## 6. Stop spark session"
   ]
  },
  {
   "cell_type": "code",
   "execution_count": null,
   "metadata": {},
   "outputs": [],
   "source": [
    "spark.stop()"
   ]
  }
 ],
 "metadata": {
  "kernelspec": {
   "display_name": "Python 3",
   "language": "python",
   "name": "python3"
  },
  "language_info": {
   "codemirror_mode": {
    "name": "ipython",
    "version": 3
   },
   "file_extension": ".py",
   "mimetype": "text/x-python",
   "name": "python",
   "nbconvert_exporter": "python",
   "pygments_lexer": "ipython3",
   "version": "3.10.12"
  },
  "orig_nbformat": 4
 },
 "nbformat": 4,
 "nbformat_minor": 2
}
